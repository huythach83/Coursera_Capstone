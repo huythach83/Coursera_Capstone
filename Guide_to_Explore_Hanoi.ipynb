{
 "cells": [
  {
   "cell_type": "markdown",
   "execution_count": null,
   "metadata": {},
   "outputs": [],
   "source": [
    "# Guide to Explore Hanoi"
   ]
  },
  {
   "cell_type": "markdown",
   "execution_count": null,
   "metadata": {},
   "outputs": [],
   "source": [
    "## I. Introduction"
   ]
  },
  {
   "cell_type": "markdown",
   "execution_count": null,
   "metadata": {},
   "outputs": [],
   "source": [
    "As someone like to travel, it's a good idea to do a research beforehand for a new destination. This time I choose Hanoi, our country's capital city.\n",
    "\n",
    "I will need to find out about where to stay, where to spend my time and... where to go if I have problem with my health. With all those infos, my trip will be exciting and safe for sure."
   ]
  },
  {
   "cell_type": "markdown",
   "execution_count": null,
   "metadata": {},
   "outputs": [],
   "source": [
    "## II. Data Source and Tools"
   ]
  },
  {
   "cell_type": "markdown",
   "execution_count": null,
   "metadata": {},
   "outputs": [],
   "source": [
    "The data will come from:\n",
    "- OpenStreetMap (OSM): to get map data, drawing district boundary, get coordinates...\n",
    "- FourSquare: for exporing the city. Mainly I'm interested in **Hotel**, **cafe**, **restaurant** and **hospital**\n",
    "- File *hanoi_district.csv*: it contains list of main districts of Hanoi with coordinates (the coordinates will be filled later in this notebook)\n",
    "\n",
    "I will also use the online tool from https://tyrasd.github.io/osmtogeojson/ to convert OSM data into geojson for use with **folium**"
   ]
  },
  {
   "cell_type": "markdown",
   "metadata": {},
   "source": [
    "## III. Build a Map for Hanoi's main districts"
   ]
  },
  {
   "cell_type": "markdown",
   "execution_count": null,
   "metadata": {},
   "outputs": [],
   "source": [
    "## Import library"
   ]
  },
  {
   "cell_type": "code",
   "execution_count": null,
   "metadata": {},
   "outputs": [],
   "source": [
    "import numpy as np\n",
    "import pandas as pd\n",
    "import io\n",
    "import requests"
   ]
  },
  {
   "cell_type": "markdown",
   "execution_count": null,
   "metadata": {},
   "outputs": [],
   "source": [
    "## Begin build map\n",
    "\n",
    "We already have the list of main district of Hanoi in a CSV file, so we will load the data"
   ]
  },
  {
   "cell_type": "code",
   "execution_count": null,
   "metadata": {},
   "outputs": [],
   "source": [
    "with io.open('hanoi_district.csv','r') as file:\n",
    "    df = pd.read_csv(file)\n",
    "\n",
    "print('There are', df.shape[0], 'main district in Hanoi')\n",
    "df"
   ]
  },
  {
   "cell_type": "markdown",
   "execution_count": null,
   "metadata": {},
   "outputs": [],
   "source": [
    "We will use OpenStreetMap to get the info for district boundary. First we will build the query"
   ]
  },
  {
   "cell_type": "markdown",
   "execution_count": null,
   "metadata": {},
   "outputs": [],
   "source": [
    "## Build the query for all the district at once"
   ]
  },
  {
   "cell_type": "markdown",
   "execution_count": null,
   "metadata": {},
   "outputs": [],
   "source": [
    "Define the function to get boundary data"
   ]
  },
  {
   "cell_type": "code",
   "execution_count": null,
   "metadata": {},
   "outputs": [],
   "source": [
    "def get_OSM_data(POI_list, to_file=False, filename='result.xml'):\n",
    "    query_head = \"\"\"\n",
    "    [out:xml][timeout:25];\n",
    "    (\\n\"\"\"\n",
    "\n",
    "    query_body = ''\n",
    "    for d in POI_list:\n",
    "        query_body += \"\"\"relation[\"name:en\"=\\\"\"\"\"+d+\"\"\"\\\"]; (._;>;);\\n\"\"\"\n",
    "\n",
    "    query_tail = \"\"\");\n",
    "    out center;\n",
    "    \"\"\"\n",
    "    \n",
    "    query = (query_head+query_body+query_tail)\n",
    "\n",
    "    overpass_url = \"http://overpass-api.de/api/interpreter\"\n",
    "    \n",
    "    response = requests.get(overpass_url, params={'data': query})\n",
    "\n",
    "    if to_file:\n",
    "        with io.open(filename,'w+', encoding='utf8') as file:\n",
    "            file.write(response.text)\n",
    "\n",
    "    return response.text"
   ]
  },
  {
   "cell_type": "markdown",
   "execution_count": null,
   "metadata": {},
   "outputs": [],
   "source": [
    "Query OpenStreetMap for boundary of district."
   ]
  },
  {
   "cell_type": "code",
   "execution_count": null,
   "metadata": {},
   "outputs": [],
   "source": [
    "data = get_OSM_data(df['Name'], True, 'hanoi_districts.xml')"
   ]
  },
  {
   "cell_type": "markdown",
   "execution_count": null,
   "metadata": {},
   "outputs": [],
   "source": [
    "With the XML file, we can use the online tool at https://tyrasd.github.io/osmtogeojson/ to convert it to geojson file. We named it ***hanoi_districts.geojson***"
   ]
  },
  {
   "cell_type": "markdown",
   "execution_count": null,
   "metadata": {},
   "outputs": [],
   "source": [
    "## Draw map using geojson data from our *result.geojson* file"
   ]
  },
  {
   "cell_type": "markdown",
   "execution_count": null,
   "metadata": {},
   "outputs": [],
   "source": [
    "Get the center point of Hanoi using OSM, save the data to file to user later if needed"
   ]
  },
  {
   "cell_type": "code",
   "execution_count": null,
   "metadata": {},
   "outputs": [],
   "source": [
    "data = get_OSM_data(['Hanoi'], True, 'hanoi.xml')"
   ]
  },
  {
   "cell_type": "markdown",
   "execution_count": null,
   "metadata": {},
   "outputs": [],
   "source": [
    "Use BeautifulSoup to extract the center point. Since we know Hanoi has **admin_level = 2**, we will only get the coordinates of the node that satisfied the condition"
   ]
  },
  {
   "cell_type": "code",
   "execution_count": null,
   "metadata": {},
   "outputs": [],
   "source": [
    "from bs4 import BeautifulSoup\n",
    "\n",
    "nodes = BeautifulSoup(data, 'lxml').findAll('node')\n",
    "\n",
    "for node in nodes:\n",
    "    if node.find('tag', {'k':'admin_level', 'v':2}) != None:\n",
    "        latitude = node['lat']\n",
    "        longitude = node['lon']\n",
    "        break"
   ]
  },
  {
   "cell_type": "markdown",
   "execution_count": null,
   "metadata": {},
   "outputs": [],
   "source": [
    "Draw map"
   ]
  },
  {
   "cell_type": "code",
   "execution_count": null,
   "metadata": {},
   "outputs": [],
   "source": [
    "import folium\n",
    "\n",
    "map = folium.Map(location=[latitude, longitude], width='100%', height=400, zoom_start=11)\n",
    "\n",
    "# We use io.open since the normal method won't work reliability with utf-8 encode file\n",
    "with io.open('hanoi_districts.geojson','r', encoding='utf8') as file:\n",
    "    geojson = file.read()\n",
    "\n",
    "folium.GeoJson(geojson, name='District boundaries').add_to(map)\n",
    "\n",
    "# Add marker\n",
    "#folium.CircleMarker([latitude, longitude], radius=5,color='blue',fill=True,\n",
    "#                       fill_color='#3186cc', fill_opacity=0.7,\n",
    "#                       parse_html=False).add_to(map)\n",
    "\n",
    "#folium.LayerControl().add_to(map)\n",
    "\n",
    "map"
   ]
  },
  {
   "cell_type": "code",
   "execution_count": null,
   "metadata": {},
   "outputs": [],
   "source": [
    "inf = BeautifulSoup(data,'lxml')"
   ]
  },
  {
   "cell_type": "code",
   "execution_count": null,
   "metadata": {},
   "outputs": [],
   "source": [
    "inf.find(\"node\")['lat']"
   ]
  }
 ],
 "metadata": {
  "kernelspec": {
   "display_name": "Python 3",
   "language": "python",
   "name": "python3"
  },
  "language_info": {
   "codemirror_mode": {
    "name": "ipython",
    "version": 3
   },
   "file_extension": ".py",
   "mimetype": "text/x-python",
   "name": "python",
   "nbconvert_exporter": "python",
   "pygments_lexer": "ipython3",
   "version": "3.7.4-final"
  }
 },
 "nbformat": 4,
 "nbformat_minor": 4
}