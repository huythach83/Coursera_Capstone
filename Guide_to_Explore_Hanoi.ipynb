{
 "cells": [
  {
   "cell_type": "markdown",
   "execution_count": null,
   "metadata": {},
   "outputs": [],
   "source": [
    "# Capstone Project - The Battle of the Neighborhoods (Week 2)\n",
    "## Guide to Explore Hanoi"
   ]
  },
  {
   "cell_type": "markdown",
   "execution_count": null,
   "metadata": {},
   "outputs": [],
   "source": [
    "## I. Introduction"
   ]
  },
  {
   "cell_type": "markdown",
   "execution_count": null,
   "metadata": {},
   "outputs": [],
   "source": [
    "As someone like to travel, it's a good idea to do a research beforehand for a new destination. This time I choose Hanoi, our country's capital city.\n",
    "\n",
    "For a traveler, the most important thing is know the place that they will travel to. So I will need to find out the area on Hanoi that has many service for traveler such as hotel, restaurant, cafe... and where to go if I have problem with my health. With all those infos, my trip will be exciting and safe for sure."
   ]
  },
  {
   "cell_type": "markdown",
   "execution_count": null,
   "metadata": {},
   "outputs": [],
   "source": [
    "## II. Data Source and Tools"
   ]
  },
  {
   "cell_type": "markdown",
   "execution_count": null,
   "metadata": {},
   "outputs": [],
   "source": [
    "Based on the intention of us, we will need data such as:\n",
    "- List of urban districts of Hanoi from **Wikipedia**: https://en.wikipedia.org/wiki/Hanoi#List_of_local_government_divisions - I already scap the info and put into ***hanoi_district.csv*** file\n",
    "- List of wards for each district from **Wikipedia**: https://vi.wikipedia.org/wiki/Thể_loại:Xã,_phường,_thị_trấn_Hà_Nội - The link to each list is included in ***hanoi_district.csv*** file\n",
    "- **Google Chrome** is used to analyse the content of Wikipedia page.\n",
    "- Map data, district boundary, coordinates from **OpenStreetMap** (OSM)\n",
    "- Location data from **FourSquare**. Mainly I'm interested in **hotel**, **cafe**, **restaurant** and **hospital**\n",
    "- Online tool from https://tyrasd.github.io/osmtogeojson/ to convert OSM data into geojson for use with **folium**"
   ]
  },
  {
   "cell_type": "markdown",
   "execution_count": null,
   "metadata": {},
   "outputs": [],
   "source": [
    "## III. Build a Map for Hanoi's main districts"
   ]
  },
  {
   "cell_type": "markdown",
   "execution_count": null,
   "metadata": {},
   "outputs": [],
   "source": [
    "## Import library"
   ]
  },
  {
   "cell_type": "code",
   "execution_count": 1,
   "metadata": {},
   "outputs": [],
   "source": [
    "import pandas as pd\n",
    "import io\n",
    "import requests"
   ]
  },
  {
   "cell_type": "markdown",
   "execution_count": null,
   "metadata": {},
   "outputs": [],
   "source": [
    "## Gather Data and Cleanup\n",
    "\n",
    "We already have the list of main district of Hanoi in a CSV file, so we will load the data"
   ]
  },
  {
   "cell_type": "code",
   "execution_count": 2,
   "metadata": {},
   "outputs": [
    {
     "name": "stdout",
     "output_type": "stream",
     "text": "There are 12 main district in Hanoi\n"
    },
    {
     "data": {
      "text/html": "<div>\n<style scoped>\n    .dataframe tbody tr th:only-of-type {\n        vertical-align: middle;\n    }\n\n    .dataframe tbody tr th {\n        vertical-align: top;\n    }\n\n    .dataframe thead th {\n        text-align: right;\n    }\n</style>\n<table border=\"1\" class=\"dataframe\">\n  <thead>\n    <tr style=\"text-align: right;\">\n      <th></th>\n      <th>d_code</th>\n      <th>d_en_name</th>\n      <th>d_vi_name</th>\n      <th>d_lat</th>\n      <th>d_lon</th>\n      <th>d_url</th>\n    </tr>\n  </thead>\n  <tbody>\n    <tr>\n      <td>0</td>\n      <td>1</td>\n      <td>Ba Dinh District</td>\n      <td>Ba Đình</td>\n      <td>NaN</td>\n      <td>NaN</td>\n      <td>https://vi.wikipedia.org/wiki/Th%E1%BB%83_lo%E...</td>\n    </tr>\n    <tr>\n      <td>1</td>\n      <td>2</td>\n      <td>Hoan Kiem District</td>\n      <td>Hoàn Kiếm</td>\n      <td>NaN</td>\n      <td>NaN</td>\n      <td>https://vi.wikipedia.org/wiki/Th%E1%BB%83_lo%E...</td>\n    </tr>\n    <tr>\n      <td>2</td>\n      <td>3</td>\n      <td>Tay Ho District</td>\n      <td>Tây Hồ</td>\n      <td>NaN</td>\n      <td>NaN</td>\n      <td>https://vi.wikipedia.org/wiki/Th%E1%BB%83_lo%E...</td>\n    </tr>\n    <tr>\n      <td>3</td>\n      <td>4</td>\n      <td>Long Bien District</td>\n      <td>Long Biên</td>\n      <td>NaN</td>\n      <td>NaN</td>\n      <td>https://vi.wikipedia.org/wiki/Th%E1%BB%83_lo%E...</td>\n    </tr>\n    <tr>\n      <td>4</td>\n      <td>5</td>\n      <td>Cau Giay District</td>\n      <td>Cầu Giấy</td>\n      <td>NaN</td>\n      <td>NaN</td>\n      <td>https://vi.wikipedia.org/wiki/Th%E1%BB%83_lo%E...</td>\n    </tr>\n  </tbody>\n</table>\n</div>",
      "text/plain": "   d_code           d_en_name  d_vi_name  d_lat  d_lon  \\\n0       1    Ba Dinh District    Ba Đình    NaN    NaN   \n1       2  Hoan Kiem District  Hoàn Kiếm    NaN    NaN   \n2       3     Tay Ho District     Tây Hồ    NaN    NaN   \n3       4  Long Bien District  Long Biên    NaN    NaN   \n4       5   Cau Giay District   Cầu Giấy    NaN    NaN   \n\n                                               d_url  \n0  https://vi.wikipedia.org/wiki/Th%E1%BB%83_lo%E...  \n1  https://vi.wikipedia.org/wiki/Th%E1%BB%83_lo%E...  \n2  https://vi.wikipedia.org/wiki/Th%E1%BB%83_lo%E...  \n3  https://vi.wikipedia.org/wiki/Th%E1%BB%83_lo%E...  \n4  https://vi.wikipedia.org/wiki/Th%E1%BB%83_lo%E...  "
     },
     "execution_count": 2,
     "metadata": {},
     "output_type": "execute_result"
    }
   ],
   "source": [
    "with io.open('hanoi_district.csv','r', encoding='utf-8-sig') as file:\n",
    "    district_df = pd.read_csv(file)\n",
    "\n",
    "print('There are', district_df.shape[0], 'main district in Hanoi')\n",
    "district_df.head()"
   ]
  },
  {
   "cell_type": "markdown",
   "execution_count": null,
   "metadata": {},
   "outputs": [],
   "source": [
    "Each district has link to a wikipedia file contain list of wards belong to them. We will need to extract those data and put into a new dataframe."
   ]
  },
  {
   "cell_type": "markdown",
   "execution_count": null,
   "metadata": {},
   "outputs": [],
   "source": [
    "Define a function to get content of a URL so we can reuse if needed"
   ]
  },
  {
   "cell_type": "code",
   "execution_count": 3,
   "metadata": {},
   "outputs": [],
   "source": [
    "def getData(url):\n",
    "    html = requests.get(url)\n",
    "\n",
    "    if html.status_code != 200:\n",
    "        print('Error! Please check the url or your network')\n",
    "    \n",
    "    return html.content"
   ]
  },
  {
   "cell_type": "markdown",
   "execution_count": null,
   "metadata": {},
   "outputs": [],
   "source": [
    "Let's take a look at our first district.\n",
    "\n",
    "Using **Google Chrome** to inspect the source code of the Wikipedia page, we know that the list of ward is inside a ***li*** tag, which in turn stay inside a ***div*** with class ***mw-category***"
   ]
  },
  {
   "cell_type": "code",
   "execution_count": 4,
   "metadata": {},
   "outputs": [
    {
     "data": {
      "text/plain": "[<li><a href=\"/wiki/C%E1%BB%91ng_V%E1%BB%8B\" title=\"Cống Vị\">Cống Vị</a></li>,\n <li><a href=\"/wiki/%C4%90i%E1%BB%87n_Bi%C3%AAn,_Ba_%C4%90%C3%ACnh\" title=\"Điện Biên, Ba Đình\">Điện Biên, Ba Đình</a></li>,\n <li><a href=\"/wiki/%C4%90%E1%BB%99i_C%E1%BA%A5n,_Ba_%C4%90%C3%ACnh\" title=\"Đội Cấn, Ba Đình\">Đội Cấn, Ba Đình</a></li>,\n <li><a href=\"/wiki/Gi%E1%BA%A3ng_V%C3%B5\" title=\"Giảng Võ\">Giảng Võ</a></li>,\n <li><a href=\"/wiki/Kim_M%C3%A3\" title=\"Kim Mã\">Kim Mã</a></li>,\n <li><a href=\"/wiki/Li%E1%BB%85u_Giai\" title=\"Liễu Giai\">Liễu Giai</a></li>,\n <li><a href=\"/wiki/Ng%E1%BB%8Dc_H%C3%A0,_Ba_%C4%90%C3%ACnh\" title=\"Ngọc Hà, Ba Đình\">Ngọc Hà, Ba Đình</a></li>,\n <li><a href=\"/wiki/Ng%E1%BB%8Dc_Kh%C3%A1nh\" title=\"Ngọc Khánh\">Ngọc Khánh</a></li>,\n <li><a href=\"/wiki/Nguy%E1%BB%85n_Trung_Tr%E1%BB%B1c_(ph%C6%B0%E1%BB%9Dng)\" title=\"Nguyễn Trung Trực (phường)\">Nguyễn Trung Trực (phường)</a></li>,\n <li><a href=\"/wiki/Ph%C3%BAc_X%C3%A1\" title=\"Phúc Xá\">Phúc Xá</a></li>,\n <li><a href=\"/wiki/Qu%C3%A1n_Th%C3%A1nh_(ph%C6%B0%E1%BB%9Dng)\" title=\"Quán Thánh (phường)\">Quán Thánh (phường)</a></li>,\n <li><a href=\"/wiki/Th%C3%A0nh_C%C3%B4ng,_Ba_%C4%90%C3%ACnh\" title=\"Thành Công, Ba Đình\">Thành Công, Ba Đình</a></li>,\n <li><a href=\"/wiki/Tr%C3%BAc_B%E1%BA%A1ch\" title=\"Trúc Bạch\">Trúc Bạch</a></li>,\n <li><a href=\"/wiki/V%C4%A9nh_Ph%C3%BAc_(ph%C6%B0%E1%BB%9Dng)\" title=\"Vĩnh Phúc (phường)\">Vĩnh Phúc (phường)</a></li>]"
     },
     "execution_count": 4,
     "metadata": {},
     "output_type": "execute_result"
    }
   ],
   "source": [
    "from bs4 import BeautifulSoup\n",
    "\n",
    "data = BeautifulSoup(getData(district_df.loc[0, 'd_url']), 'html.parser').find('div',{'class':'mw-category'}).findAll('li')\n",
    "\n",
    "data"
   ]
  },
  {
   "cell_type": "markdown",
   "execution_count": null,
   "metadata": {},
   "outputs": [],
   "source": [
    "Each element contain the URL and name of a ward. We will need the URL to extract the latitude and longitude of each ward in case OpenStreetMap can't provide those infos.\n",
    "\n",
    "Get all the ward name of each district."
   ]
  },
  {
   "cell_type": "code",
   "execution_count": 5,
   "metadata": {},
   "outputs": [
    {
     "name": "stdout",
     "output_type": "stream",
     "text": "1/12. Getting list of wards for Ba Dinh District...\n2/12. Getting list of wards for Hoan Kiem District...\n3/12. Getting list of wards for Tay Ho District...\n4/12. Getting list of wards for Long Bien District...\n5/12. Getting list of wards for Cau Giay District...\n6/12. Getting list of wards for Dong Da District...\n7/12. Getting list of wards for Hai Ba Trung District...\n8/12. Getting list of wards for Hoang Mai District...\n9/12. Getting list of wards for Thanh Xuan District...\n10/12. Getting list of wards for Nam Tu Liem District...\n11/12. Getting list of wards for Bac Tu Liem District...\n12/12. Getting list of wards for Ha Dong District...\n\nDone!\n"
    }
   ],
   "source": [
    "# Define new dataframe\n",
    "col_list = district_df.columns.to_list()\n",
    "col_list.extend(['w_name', 'w_url', 'w_lat', 'w_lon'])\n",
    "ward_df = pd.DataFrame(columns=col_list)\n",
    "\n",
    "total_districts = district_df.shape[0]\n",
    "\n",
    "# Loop through each row in district_df to get list of wards\n",
    "for idx, row in district_df.iterrows():\n",
    "    # Get content of the Wikipedia page, then find the list of all wards, put it in variable data\n",
    "    print(str(idx+1)+'/'+str(total_districts)+'. Getting list of wards for', row['d_en_name']+'...')\n",
    "    data = BeautifulSoup(getData(row['d_url']), 'html.parser').find('div',{'class':'mw-category'}).findAll('li')\n",
    "    for w in data:\n",
    "        r = row.copy()\n",
    "        w_name = w.text.replace(', '+ district_df.loc[idx,'d_vi_name'], '').replace(' (phường)', '')  # Clean up the ward's name\n",
    "        w_url = 'https://vi.wikipedia.org'+w.a['href']  # Add prefix to url\n",
    "        r['w_name'] = w_name\n",
    "        r['w_url'] = w_url\n",
    "        ward_df=ward_df.append(r, ignore_index=True)    # Append ward to ward_df dataframe\n",
    "\n",
    "print('\\nDone!')\n"
   ]
  },
  {
   "cell_type": "markdown",
   "execution_count": null,
   "metadata": {},
   "outputs": [],
   "source": [
    "Let's take a look at our new dataframe"
   ]
  },
  {
   "cell_type": "code",
   "execution_count": 6,
   "metadata": {},
   "outputs": [
    {
     "name": "stdout",
     "output_type": "stream",
     "text": "There are 166 wards in total\n"
    },
    {
     "data": {
      "text/html": "<div>\n<style scoped>\n    .dataframe tbody tr th:only-of-type {\n        vertical-align: middle;\n    }\n\n    .dataframe tbody tr th {\n        vertical-align: top;\n    }\n\n    .dataframe thead th {\n        text-align: right;\n    }\n</style>\n<table border=\"1\" class=\"dataframe\">\n  <thead>\n    <tr style=\"text-align: right;\">\n      <th></th>\n      <th>d_code</th>\n      <th>d_en_name</th>\n      <th>d_vi_name</th>\n      <th>d_lat</th>\n      <th>d_lon</th>\n      <th>d_url</th>\n      <th>w_name</th>\n      <th>w_url</th>\n      <th>w_lat</th>\n      <th>w_lon</th>\n    </tr>\n  </thead>\n  <tbody>\n    <tr>\n      <td>0</td>\n      <td>1</td>\n      <td>Ba Dinh District</td>\n      <td>Ba Đình</td>\n      <td>NaN</td>\n      <td>NaN</td>\n      <td>https://vi.wikipedia.org/wiki/Th%E1%BB%83_lo%E...</td>\n      <td>Cống Vị</td>\n      <td>https://vi.wikipedia.org/wiki/C%E1%BB%91ng_V%E...</td>\n      <td>NaN</td>\n      <td>NaN</td>\n    </tr>\n    <tr>\n      <td>1</td>\n      <td>1</td>\n      <td>Ba Dinh District</td>\n      <td>Ba Đình</td>\n      <td>NaN</td>\n      <td>NaN</td>\n      <td>https://vi.wikipedia.org/wiki/Th%E1%BB%83_lo%E...</td>\n      <td>Điện Biên</td>\n      <td>https://vi.wikipedia.org/wiki/%C4%90i%E1%BB%87...</td>\n      <td>NaN</td>\n      <td>NaN</td>\n    </tr>\n    <tr>\n      <td>2</td>\n      <td>1</td>\n      <td>Ba Dinh District</td>\n      <td>Ba Đình</td>\n      <td>NaN</td>\n      <td>NaN</td>\n      <td>https://vi.wikipedia.org/wiki/Th%E1%BB%83_lo%E...</td>\n      <td>Đội Cấn</td>\n      <td>https://vi.wikipedia.org/wiki/%C4%90%E1%BB%99i...</td>\n      <td>NaN</td>\n      <td>NaN</td>\n    </tr>\n    <tr>\n      <td>3</td>\n      <td>1</td>\n      <td>Ba Dinh District</td>\n      <td>Ba Đình</td>\n      <td>NaN</td>\n      <td>NaN</td>\n      <td>https://vi.wikipedia.org/wiki/Th%E1%BB%83_lo%E...</td>\n      <td>Giảng Võ</td>\n      <td>https://vi.wikipedia.org/wiki/Gi%E1%BA%A3ng_V%...</td>\n      <td>NaN</td>\n      <td>NaN</td>\n    </tr>\n    <tr>\n      <td>4</td>\n      <td>1</td>\n      <td>Ba Dinh District</td>\n      <td>Ba Đình</td>\n      <td>NaN</td>\n      <td>NaN</td>\n      <td>https://vi.wikipedia.org/wiki/Th%E1%BB%83_lo%E...</td>\n      <td>Kim Mã</td>\n      <td>https://vi.wikipedia.org/wiki/Kim_M%C3%A3</td>\n      <td>NaN</td>\n      <td>NaN</td>\n    </tr>\n  </tbody>\n</table>\n</div>",
      "text/plain": "  d_code         d_en_name d_vi_name d_lat d_lon  \\\n0      1  Ba Dinh District   Ba Đình   NaN   NaN   \n1      1  Ba Dinh District   Ba Đình   NaN   NaN   \n2      1  Ba Dinh District   Ba Đình   NaN   NaN   \n3      1  Ba Dinh District   Ba Đình   NaN   NaN   \n4      1  Ba Dinh District   Ba Đình   NaN   NaN   \n\n                                               d_url     w_name  \\\n0  https://vi.wikipedia.org/wiki/Th%E1%BB%83_lo%E...    Cống Vị   \n1  https://vi.wikipedia.org/wiki/Th%E1%BB%83_lo%E...  Điện Biên   \n2  https://vi.wikipedia.org/wiki/Th%E1%BB%83_lo%E...    Đội Cấn   \n3  https://vi.wikipedia.org/wiki/Th%E1%BB%83_lo%E...   Giảng Võ   \n4  https://vi.wikipedia.org/wiki/Th%E1%BB%83_lo%E...     Kim Mã   \n\n                                               w_url w_lat w_lon  \n0  https://vi.wikipedia.org/wiki/C%E1%BB%91ng_V%E...   NaN   NaN  \n1  https://vi.wikipedia.org/wiki/%C4%90i%E1%BB%87...   NaN   NaN  \n2  https://vi.wikipedia.org/wiki/%C4%90%E1%BB%99i...   NaN   NaN  \n3  https://vi.wikipedia.org/wiki/Gi%E1%BA%A3ng_V%...   NaN   NaN  \n4          https://vi.wikipedia.org/wiki/Kim_M%C3%A3   NaN   NaN  "
     },
     "execution_count": 6,
     "metadata": {},
     "output_type": "execute_result"
    }
   ],
   "source": [
    "print('There are', ward_df.shape[0], 'wards in total')\n",
    "ward_df.head()"
   ]
  },
  {
   "cell_type": "markdown",
   "execution_count": null,
   "metadata": {},
   "outputs": [],
   "source": [
    "We will use OpenStreetMap to get the boudary info of each district and coordinates of each ward. So we will build the function to do that"
   ]
  },
  {
   "cell_type": "markdown",
   "execution_count": null,
   "metadata": {},
   "outputs": [],
   "source": [
    "## Build the function to get district's boundary or ward's coordinates"
   ]
  },
  {
   "cell_type": "code",
   "execution_count": 7,
   "metadata": {},
   "outputs": [],
   "source": [
    "def get_OSM_data(POI_list, info='bound', filename=''):\n",
    "    query_head = \"\"\"\n",
    "    [out:xml][timeout:25];\n",
    "    (\\n\"\"\"\n",
    "\n",
    "    query_body = ''\n",
    "    \n",
    "    # Get boundary\n",
    "    if (info == 'bound'):\n",
    "        for d in POI_list:\n",
    "            query_body += \"\"\"relation[\"name:en\"=\\\"\"\"\"+d+\"\"\"\\\"]; (._;>;);\\n\"\"\"\n",
    "\n",
    "        query_tail = \"\"\");\n",
    "        out center;\n",
    "        \"\"\"\n",
    "    # Get coordinates\n",
    "    elif (info == 'coord'):\n",
    "        for w in POI_list:\n",
    "            query_body += \"\"\"node[\"name\"=\\\"\"\"\"+w+\"\"\"\\\"][place=suburb];\\n\"\"\"\n",
    "        \n",
    "        query_tail = \"\"\");\n",
    "        out;\n",
    "        \"\"\"\n",
    "    \n",
    "    query = (query_head+query_body+query_tail)\n",
    "\n",
    "    overpass_url = \"http://overpass-api.de/api/interpreter\"\n",
    "    \n",
    "    response = requests.get(overpass_url, params={'data': query})\n",
    "\n",
    "    # Write the respond content to file if needed\n",
    "    if filename != '':\n",
    "        with io.open(filename,'w+', encoding='utf8') as file:\n",
    "            file.write(response.text)\n",
    "\n",
    "    return response.text"
   ]
  },
  {
   "cell_type": "markdown",
   "execution_count": null,
   "metadata": {},
   "outputs": [],
   "source": [
    "Get OSM boundary data for all districts and save as ***hanoi_districts_boundary.xml***"
   ]
  },
  {
   "cell_type": "code",
   "execution_count": 9,
   "metadata": {},
   "outputs": [],
   "source": [
    "data = get_OSM_data(district_df['d_en_name'], 'bound', 'hanoi_districts_boundary.xml')"
   ]
  },
  {
   "cell_type": "markdown",
   "execution_count": null,
   "metadata": {},
   "outputs": [],
   "source": [
    "With the XML file, we can use the online tool at https://tyrasd.github.io/osmtogeojson/ to convert it to geojson file. We named it ***hanoi_districts.geojson***"
   ]
  },
  {
   "cell_type": "markdown",
   "execution_count": null,
   "metadata": {},
   "outputs": [],
   "source": [
    "## Draw map using geojson data from our *result.geojson* file"
   ]
  },
  {
   "cell_type": "markdown",
   "metadata": {},
   "source": [
    "We need to get the center point for our map"
   ]
  },
  {
   "cell_type": "code",
   "execution_count": 10,
   "metadata": {},
   "outputs": [],
   "source": [
    "data = get_OSM_data(['Hanoi'])"
   ]
  },
  {
   "cell_type": "markdown",
   "execution_count": null,
   "metadata": {},
   "outputs": [],
   "source": [
    "Use BeautifulSoup to extract the center point. Since we know Hanoi has **admin_level = 2**, we will only get the coordinates of the node that satisfied the condition"
   ]
  },
  {
   "cell_type": "code",
   "execution_count": 11,
   "metadata": {},
   "outputs": [],
   "source": [
    "from bs4 import BeautifulSoup\n",
    "\n",
    "nodes = BeautifulSoup(data, 'lxml').findAll('node')\n",
    "\n",
    "for node in nodes:\n",
    "    if node.find('tag', {'k':'admin_level', 'v':2}) != None:\n",
    "        latitude = node['lat']\n",
    "        longitude = node['lon']\n",
    "        break"
   ]
  },
  {
   "cell_type": "markdown",
   "execution_count": null,
   "metadata": {},
   "outputs": [],
   "source": [
    "Draw map"
   ]
  },
  {
   "cell_type": "code",
   "execution_count": 19,
   "metadata": {},
   "outputs": [
    {
     "data": {
      "text/html": "<div style=\"width:100%;\"><div style=\"position:relative;width:100%;height:0;padding-bottom:60%;\"><iframe src=\"data:text/html;charset=utf-8;base64,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\" style=\"position:absolute;width:100%;height:100%;left:0;top:0;border:none !important;\" allowfullscreen webkitallowfullscreen mozallowfullscreen></iframe></div></div>",
      "text/plain": "<folium.folium.Map at 0x27b5d310d48>"
     },
     "execution_count": 19,
     "metadata": {},
     "output_type": "execute_result"
    }
   ],
   "source": [
    "import folium\n",
    "\n",
    "map = folium.Map(location=[latitude, longitude], width='100%', height=400, zoom_start=11)\n",
    "\n",
    "# We use io.open since the normal method won't work reliability with utf-8 encode file\n",
    "with io.open('hanoi_districts.geojson','r', encoding='utf8') as file:\n",
    "    geojson = file.read()\n",
    "\n",
    "folium.GeoJson(geojson, name='District boundaries').add_to(map)\n",
    "\n",
    "# Add marker for center point\n",
    "folium.CircleMarker([latitude, longitude], radius=5,color='red',fill=True,\n",
    "                       fill_color='#cc563f', fill_opacity=0.7, popup='Center of Hanoi',\n",
    "                       parse_html=False).add_to(map)\n",
    "\n",
    "map"
   ]
  },
  {
   "cell_type": "markdown",
   "execution_count": null,
   "metadata": {},
   "outputs": [],
   "source": [
    "Query OSM for coordinates of wards"
   ]
  },
  {
   "cell_type": "code",
   "execution_count": 18,
   "metadata": {},
   "outputs": [
    {
     "name": "stdout",
     "output_type": "stream",
     "text": "1 of 12 - Processing Ba Dinh District\n2 of 12 - Processing Hoan Kiem District\n3 of 12 - Processing Tay Ho District\n4 of 12 - Processing Long Bien District\n5 of 12 - Processing Cau Giay District\n6 of 12 - Processing Dong Da District\n7 of 12 - Processing Hai Ba Trung District\n8 of 12 - Processing Hoang Mai District\n9 of 12 - Processing Thanh Xuan District\n10 of 12 - Processing Nam Tu Liem District\n11 of 12 - Processing Bac Tu Liem District\n12 of 12 - Processing Ha Dong District\n"
    }
   ],
   "source": [
    "# Loop through each district\n",
    "for idx, row in district_df.iterrows():\n",
    "    print(str(idx+1),'of',total_districts,'- Processing', row['d_en_name'])\n",
    "    \n",
    "    data = get_OSM_data(ward_df.loc[ward_df['d_en_name']==row['d_en_name'], 'w_name'], 'coord')\n",
    "    nodes = BeautifulSoup(data, 'lxml').findAll('node')\n",
    "    for node in nodes:\n",
    "        ward_df.loc[ward_df['w_name']==node.find('tag',{'k':'name'})['v'],'w_lat']=node['lat']\n",
    "        ward_df.loc[ward_df['w_name']==node.find('tag',{'k':'name'})['v'],'w_lon']=node['lon']"
   ]
  },
  {
   "cell_type": "markdown",
   "metadata": {},
   "source": [
    "Let check the result"
   ]
  },
  {
   "cell_type": "code",
   "execution_count": 20,
   "metadata": {},
   "outputs": [
    {
     "data": {
      "text/html": "<div>\n<style scoped>\n    .dataframe tbody tr th:only-of-type {\n        vertical-align: middle;\n    }\n\n    .dataframe tbody tr th {\n        vertical-align: top;\n    }\n\n    .dataframe thead th {\n        text-align: right;\n    }\n</style>\n<table border=\"1\" class=\"dataframe\">\n  <thead>\n    <tr style=\"text-align: right;\">\n      <th></th>\n      <th>d_code</th>\n      <th>d_en_name</th>\n      <th>d_vi_name</th>\n      <th>d_lat</th>\n      <th>d_lon</th>\n      <th>d_url</th>\n      <th>w_name</th>\n      <th>w_url</th>\n      <th>w_lat</th>\n      <th>w_lon</th>\n    </tr>\n  </thead>\n  <tbody>\n    <tr>\n      <td>0</td>\n      <td>1</td>\n      <td>Ba Dinh District</td>\n      <td>Ba Đình</td>\n      <td>NaN</td>\n      <td>NaN</td>\n      <td>https://vi.wikipedia.org/wiki/Th%E1%BB%83_lo%E...</td>\n      <td>Cống Vị</td>\n      <td>https://vi.wikipedia.org/wiki/C%E1%BB%91ng_V%E...</td>\n      <td>21.0356697</td>\n      <td>105.8102348</td>\n    </tr>\n    <tr>\n      <td>1</td>\n      <td>1</td>\n      <td>Ba Dinh District</td>\n      <td>Ba Đình</td>\n      <td>NaN</td>\n      <td>NaN</td>\n      <td>https://vi.wikipedia.org/wiki/Th%E1%BB%83_lo%E...</td>\n      <td>Điện Biên</td>\n      <td>https://vi.wikipedia.org/wiki/%C4%90i%E1%BB%87...</td>\n      <td>21.0306670</td>\n      <td>105.8383505</td>\n    </tr>\n    <tr>\n      <td>2</td>\n      <td>1</td>\n      <td>Ba Dinh District</td>\n      <td>Ba Đình</td>\n      <td>NaN</td>\n      <td>NaN</td>\n      <td>https://vi.wikipedia.org/wiki/Th%E1%BB%83_lo%E...</td>\n      <td>Đội Cấn</td>\n      <td>https://vi.wikipedia.org/wiki/%C4%90%E1%BB%99i...</td>\n      <td>21.0348806</td>\n      <td>105.8304390</td>\n    </tr>\n    <tr>\n      <td>3</td>\n      <td>1</td>\n      <td>Ba Dinh District</td>\n      <td>Ba Đình</td>\n      <td>NaN</td>\n      <td>NaN</td>\n      <td>https://vi.wikipedia.org/wiki/Th%E1%BB%83_lo%E...</td>\n      <td>Giảng Võ</td>\n      <td>https://vi.wikipedia.org/wiki/Gi%E1%BA%A3ng_V%...</td>\n      <td>21.0257843</td>\n      <td>105.8188201</td>\n    </tr>\n    <tr>\n      <td>4</td>\n      <td>1</td>\n      <td>Ba Dinh District</td>\n      <td>Ba Đình</td>\n      <td>NaN</td>\n      <td>NaN</td>\n      <td>https://vi.wikipedia.org/wiki/Th%E1%BB%83_lo%E...</td>\n      <td>Kim Mã</td>\n      <td>https://vi.wikipedia.org/wiki/Kim_M%C3%A3</td>\n      <td>21.0312786</td>\n      <td>105.8263686</td>\n    </tr>\n  </tbody>\n</table>\n</div>",
      "text/plain": "  d_code         d_en_name d_vi_name d_lat d_lon  \\\n0      1  Ba Dinh District   Ba Đình   NaN   NaN   \n1      1  Ba Dinh District   Ba Đình   NaN   NaN   \n2      1  Ba Dinh District   Ba Đình   NaN   NaN   \n3      1  Ba Dinh District   Ba Đình   NaN   NaN   \n4      1  Ba Dinh District   Ba Đình   NaN   NaN   \n\n                                               d_url     w_name  \\\n0  https://vi.wikipedia.org/wiki/Th%E1%BB%83_lo%E...    Cống Vị   \n1  https://vi.wikipedia.org/wiki/Th%E1%BB%83_lo%E...  Điện Biên   \n2  https://vi.wikipedia.org/wiki/Th%E1%BB%83_lo%E...    Đội Cấn   \n3  https://vi.wikipedia.org/wiki/Th%E1%BB%83_lo%E...   Giảng Võ   \n4  https://vi.wikipedia.org/wiki/Th%E1%BB%83_lo%E...     Kim Mã   \n\n                                               w_url       w_lat        w_lon  \n0  https://vi.wikipedia.org/wiki/C%E1%BB%91ng_V%E...  21.0356697  105.8102348  \n1  https://vi.wikipedia.org/wiki/%C4%90i%E1%BB%87...  21.0306670  105.8383505  \n2  https://vi.wikipedia.org/wiki/%C4%90%E1%BB%99i...  21.0348806  105.8304390  \n3  https://vi.wikipedia.org/wiki/Gi%E1%BA%A3ng_V%...  21.0257843  105.8188201  \n4          https://vi.wikipedia.org/wiki/Kim_M%C3%A3  21.0312786  105.8263686  "
     },
     "execution_count": 20,
     "metadata": {},
     "output_type": "execute_result"
    }
   ],
   "source": [
    "ward_df.head()"
   ]
  },
  {
   "cell_type": "markdown",
   "metadata": {},
   "source": [
    "\n",
    "Looked good, but I want to make sure all the latitude and longitude for each ward is filled."
   ]
  },
  {
   "cell_type": "code",
   "execution_count": 26,
   "metadata": {},
   "outputs": [
    {
     "data": {
      "text/html": "<div>\n<style scoped>\n    .dataframe tbody tr th:only-of-type {\n        vertical-align: middle;\n    }\n\n    .dataframe tbody tr th {\n        vertical-align: top;\n    }\n\n    .dataframe thead th {\n        text-align: right;\n    }\n</style>\n<table border=\"1\" class=\"dataframe\">\n  <thead>\n    <tr style=\"text-align: right;\">\n      <th></th>\n      <th>d_code</th>\n      <th>d_en_name</th>\n      <th>d_vi_name</th>\n      <th>d_lat</th>\n      <th>d_lon</th>\n      <th>d_url</th>\n      <th>w_name</th>\n      <th>w_url</th>\n      <th>w_lat</th>\n      <th>w_lon</th>\n    </tr>\n  </thead>\n  <tbody>\n    <tr>\n      <td>14</td>\n      <td>2</td>\n      <td>Hoan Kiem District</td>\n      <td>Hoàn Kiếm</td>\n      <td>NaN</td>\n      <td>NaN</td>\n      <td>https://vi.wikipedia.org/wiki/Th%E1%BB%83_lo%E...</td>\n      <td>Chương Dương</td>\n      <td>https://vi.wikipedia.org/wiki/Ch%C6%B0%C6%A1ng...</td>\n      <td>NaN</td>\n      <td>NaN</td>\n    </tr>\n    <tr>\n      <td>17</td>\n      <td>2</td>\n      <td>Hoan Kiem District</td>\n      <td>Hoàn Kiếm</td>\n      <td>NaN</td>\n      <td>NaN</td>\n      <td>https://vi.wikipedia.org/wiki/Th%E1%BB%83_lo%E...</td>\n      <td>Đồng Xuân</td>\n      <td>https://vi.wikipedia.org/wiki/%C4%90%E1%BB%93n...</td>\n      <td>NaN</td>\n      <td>NaN</td>\n    </tr>\n    <tr>\n      <td>36</td>\n      <td>3</td>\n      <td>Tay Ho District</td>\n      <td>Tây Hồ</td>\n      <td>NaN</td>\n      <td>NaN</td>\n      <td>https://vi.wikipedia.org/wiki/Th%E1%BB%83_lo%E...</td>\n      <td>Thụy Khuê</td>\n      <td>https://vi.wikipedia.org/wiki/Th%E1%BB%A5y_Khu...</td>\n      <td>NaN</td>\n      <td>NaN</td>\n    </tr>\n    <tr>\n      <td>37</td>\n      <td>3</td>\n      <td>Tay Ho District</td>\n      <td>Tây Hồ</td>\n      <td>NaN</td>\n      <td>NaN</td>\n      <td>https://vi.wikipedia.org/wiki/Th%E1%BB%83_lo%E...</td>\n      <td>Tứ Liên</td>\n      <td>https://vi.wikipedia.org/wiki/T%E1%BB%A9_Li%C3...</td>\n      <td>NaN</td>\n      <td>NaN</td>\n    </tr>\n    <tr>\n      <td>43</td>\n      <td>4</td>\n      <td>Long Bien District</td>\n      <td>Long Biên</td>\n      <td>NaN</td>\n      <td>NaN</td>\n      <td>https://vi.wikipedia.org/wiki/Th%E1%BB%83_lo%E...</td>\n      <td>Gia Thụy</td>\n      <td>https://vi.wikipedia.org/wiki/Gia_Th%E1%BB%A5y</td>\n      <td>NaN</td>\n      <td>NaN</td>\n    </tr>\n    <tr>\n      <td>...</td>\n      <td>...</td>\n      <td>...</td>\n      <td>...</td>\n      <td>...</td>\n      <td>...</td>\n      <td>...</td>\n      <td>...</td>\n      <td>...</td>\n      <td>...</td>\n      <td>...</td>\n    </tr>\n    <tr>\n      <td>160</td>\n      <td>268</td>\n      <td>Ha Dong District</td>\n      <td>Hà Đông</td>\n      <td>NaN</td>\n      <td>NaN</td>\n      <td>https://vi.wikipedia.org/wiki/Th%E1%BB%83_lo%E...</td>\n      <td>Phúc La</td>\n      <td>https://vi.wikipedia.org/wiki/Ph%C3%BAc_La</td>\n      <td>NaN</td>\n      <td>NaN</td>\n    </tr>\n    <tr>\n      <td>161</td>\n      <td>268</td>\n      <td>Ha Dong District</td>\n      <td>Hà Đông</td>\n      <td>NaN</td>\n      <td>NaN</td>\n      <td>https://vi.wikipedia.org/wiki/Th%E1%BB%83_lo%E...</td>\n      <td>Quang Trung</td>\n      <td>https://vi.wikipedia.org/wiki/Quang_Trung,_H%C...</td>\n      <td>NaN</td>\n      <td>NaN</td>\n    </tr>\n    <tr>\n      <td>162</td>\n      <td>268</td>\n      <td>Ha Dong District</td>\n      <td>Hà Đông</td>\n      <td>NaN</td>\n      <td>NaN</td>\n      <td>https://vi.wikipedia.org/wiki/Th%E1%BB%83_lo%E...</td>\n      <td>Vạn Phúc</td>\n      <td>https://vi.wikipedia.org/wiki/V%E1%BA%A1n_Ph%C...</td>\n      <td>NaN</td>\n      <td>NaN</td>\n    </tr>\n    <tr>\n      <td>163</td>\n      <td>268</td>\n      <td>Ha Dong District</td>\n      <td>Hà Đông</td>\n      <td>NaN</td>\n      <td>NaN</td>\n      <td>https://vi.wikipedia.org/wiki/Th%E1%BB%83_lo%E...</td>\n      <td>Văn Quán</td>\n      <td>https://vi.wikipedia.org/wiki/V%C4%83n_Qu%C3%A...</td>\n      <td>NaN</td>\n      <td>NaN</td>\n    </tr>\n    <tr>\n      <td>164</td>\n      <td>268</td>\n      <td>Ha Dong District</td>\n      <td>Hà Đông</td>\n      <td>NaN</td>\n      <td>NaN</td>\n      <td>https://vi.wikipedia.org/wiki/Th%E1%BB%83_lo%E...</td>\n      <td>Yên Nghĩa</td>\n      <td>https://vi.wikipedia.org/wiki/Y%C3%AAn_Ngh%C4%...</td>\n      <td>NaN</td>\n      <td>NaN</td>\n    </tr>\n  </tbody>\n</table>\n<p>98 rows × 10 columns</p>\n</div>",
      "text/plain": "    d_code           d_en_name  d_vi_name d_lat d_lon  \\\n14       2  Hoan Kiem District  Hoàn Kiếm   NaN   NaN   \n17       2  Hoan Kiem District  Hoàn Kiếm   NaN   NaN   \n36       3     Tay Ho District     Tây Hồ   NaN   NaN   \n37       3     Tay Ho District     Tây Hồ   NaN   NaN   \n43       4  Long Bien District  Long Biên   NaN   NaN   \n..     ...                 ...        ...   ...   ...   \n160    268    Ha Dong District    Hà Đông   NaN   NaN   \n161    268    Ha Dong District    Hà Đông   NaN   NaN   \n162    268    Ha Dong District    Hà Đông   NaN   NaN   \n163    268    Ha Dong District    Hà Đông   NaN   NaN   \n164    268    Ha Dong District    Hà Đông   NaN   NaN   \n\n                                                 d_url        w_name  \\\n14   https://vi.wikipedia.org/wiki/Th%E1%BB%83_lo%E...  Chương Dương   \n17   https://vi.wikipedia.org/wiki/Th%E1%BB%83_lo%E...     Đồng Xuân   \n36   https://vi.wikipedia.org/wiki/Th%E1%BB%83_lo%E...     Thụy Khuê   \n37   https://vi.wikipedia.org/wiki/Th%E1%BB%83_lo%E...       Tứ Liên   \n43   https://vi.wikipedia.org/wiki/Th%E1%BB%83_lo%E...      Gia Thụy   \n..                                                 ...           ...   \n160  https://vi.wikipedia.org/wiki/Th%E1%BB%83_lo%E...       Phúc La   \n161  https://vi.wikipedia.org/wiki/Th%E1%BB%83_lo%E...   Quang Trung   \n162  https://vi.wikipedia.org/wiki/Th%E1%BB%83_lo%E...      Vạn Phúc   \n163  https://vi.wikipedia.org/wiki/Th%E1%BB%83_lo%E...      Văn Quán   \n164  https://vi.wikipedia.org/wiki/Th%E1%BB%83_lo%E...     Yên Nghĩa   \n\n                                                 w_url w_lat w_lon  \n14   https://vi.wikipedia.org/wiki/Ch%C6%B0%C6%A1ng...   NaN   NaN  \n17   https://vi.wikipedia.org/wiki/%C4%90%E1%BB%93n...   NaN   NaN  \n36   https://vi.wikipedia.org/wiki/Th%E1%BB%A5y_Khu...   NaN   NaN  \n37   https://vi.wikipedia.org/wiki/T%E1%BB%A9_Li%C3...   NaN   NaN  \n43      https://vi.wikipedia.org/wiki/Gia_Th%E1%BB%A5y   NaN   NaN  \n..                                                 ...   ...   ...  \n160         https://vi.wikipedia.org/wiki/Ph%C3%BAc_La   NaN   NaN  \n161  https://vi.wikipedia.org/wiki/Quang_Trung,_H%C...   NaN   NaN  \n162  https://vi.wikipedia.org/wiki/V%E1%BA%A1n_Ph%C...   NaN   NaN  \n163  https://vi.wikipedia.org/wiki/V%C4%83n_Qu%C3%A...   NaN   NaN  \n164  https://vi.wikipedia.org/wiki/Y%C3%AAn_Ngh%C4%...   NaN   NaN  \n\n[98 rows x 10 columns]"
     },
     "execution_count": 26,
     "metadata": {},
     "output_type": "execute_result"
    }
   ],
   "source": [
    "ward_df[(ward_df['w_lat'].isnull()) | (ward_df['w_lon'].isnull())]"
   ]
  },
  {
   "cell_type": "markdown",
   "metadata": {},
   "source": [
    "Out of 166 wards, there are 98 ward without coordinates data. This is not good.  We have to use other way to fill the coordinates.\n",
    "\n",
    "Take a look at Wikipedia page for each ward, we have the coordinates but in DMS format. So we will have to extract the coordinates and convert it to DD for use in Folium"
   ]
  },
  {
   "cell_type": "markdown",
   "metadata": {},
   "source": [
    "Let's try with the ward that have index value 14"
   ]
  },
  {
   "cell_type": "code",
   "execution_count": 42,
   "metadata": {},
   "outputs": [
    {
     "name": "stdout",
     "output_type": "stream",
     "text": "d_code                                                       2\nd_en_name                                   Hoan Kiem District\nd_vi_name                                            Hoàn Kiếm\nd_lat                                                      NaN\nd_lon                                                      NaN\nd_url        https://vi.wikipedia.org/wiki/Th%E1%BB%83_lo%E...\nw_name                                            Chương Dương\nw_url        https://vi.wikipedia.org/wiki/Ch%C6%B0%C6%A1ng...\nw_lat                                                      NaN\nw_lon                                                      NaN\nName: 14, dtype: object\n"
    }
   ],
   "source": [
    "print(ward_df.loc[14])\n",
    "data = BeautifulSoup(getData(ward_df.loc[14, 'w_url']), 'html.parser')"
   ]
  },
  {
   "cell_type": "code",
   "execution_count": 46,
   "metadata": {},
   "outputs": [
    {
     "name": "stdout",
     "output_type": "stream",
     "text": "Chương Dương have latitude 21°01′38″B and longitude 105°51′37″Đ in DMS format\n"
    }
   ],
   "source": [
    "lat_dms = data.find('span',{'class':'latitude'}).text\n",
    "lon_dms = data.find('span',{'class':'longitude'}).text\n",
    "print(ward_df.loc[14, 'w_name'], 'have latitude', lat_dms, 'and longitude', lon_dms, 'in DMS format')"
   ]
  }
 ],
 "metadata": {
  "kernelspec": {
   "display_name": "Python 3",
   "language": "python",
   "name": "python3"
  },
  "language_info": {
   "codemirror_mode": {
    "name": "ipython",
    "version": 3
   },
   "file_extension": ".py",
   "mimetype": "text/x-python",
   "name": "python",
   "nbconvert_exporter": "python",
   "pygments_lexer": "ipython3",
   "version": "3.7.4-final"
  }
 },
 "nbformat": 4,
 "nbformat_minor": 4
}